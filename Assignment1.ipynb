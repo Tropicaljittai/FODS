{
 "cells": [
  {
   "cell_type": "code",
   "execution_count": 3,
   "metadata": {},
   "outputs": [],
   "source": [
    "from bs4 import BeautifulSoup\n",
    "import requests\n",
    "import re\n",
    "import pandas as pd"
   ]
  },
  {
   "cell_type": "code",
   "execution_count": 203,
   "metadata": {},
   "outputs": [],
   "source": [
    "# Downloading Kompas data\n",
    "headers = {'User-Agent': 'Mozilla/5.0 (Macintosh; Intel Mac OS X 10_11_5) AppleWebKit/537.36 (KHTML, like Gecko) Chrome/50.0.2661.102 Safari/537.36'}\n",
    "url = 'https://www.imdb.com/title/tt3107288/episodes?ref_=tt_eps_sm'\n",
    "response = requests.get(url,headers=headers)\n",
    "soup = BeautifulSoup(response.text, \"html.parser\")"
   ]
  },
  {
   "cell_type": "code",
   "execution_count": 310,
   "metadata": {},
   "outputs": [
    {
     "name": "stdout",
     "output_type": "stream",
     "text": [
      "[]\n",
      " \n",
      "how many titles are available? 0\n"
     ]
    }
   ],
   "source": [
    "newstitle = soup.select('div.sc-77f04bb0-7')\n",
    "print(newstitle)\n",
    "print(\" \")\n",
    "print(\"how many titles are available?\",len(soup.select('div.sc-77f04bb0-7')))"
   ]
  },
  {
   "cell_type": "code",
   "execution_count": 224,
   "metadata": {},
   "outputs": [
    {
     "name": "stdout",
     "output_type": "stream",
     "text": [
      "[<span aria-label=\"IMDb rating: 8.3\" class=\"ipc-rating-star ipc-rating-star--base ipc-rating-star--imdb ratingGroup--imdb-rating\"><svg class=\"ipc-icon ipc-icon--star-inline\" fill=\"currentColor\" height=\"24\" role=\"presentation\" viewbox=\"0 0 24 24\" width=\"24\" xmlns=\"http://www.w3.org/2000/svg\"><path d=\"M12 20.1l5.82 3.682c1.066.675 2.37-.322 2.09-1.584l-1.543-6.926 5.146-4.667c.94-.85.435-2.465-.799-2.567l-6.773-.602L13.29.89a1.38 1.38 0 0 0-2.581 0l-2.65 6.53-6.774.602C.052 8.126-.453 9.74.486 10.59l5.147 4.666-1.542 6.926c-.28 1.262 1.023 2.26 2.09 1.585L12 20.099z\"></path></svg>8.3<span class=\"ipc-rating-star--maxRating\">/<!-- -->10</span><span class=\"ipc-rating-star--voteCount\"> (<!-- -->9.4K<!-- -->)</span></span>, <span class=\"ipc-rating-star ipc-rating-star--base ipc-rating-star--rate\"><svg class=\"ipc-icon ipc-icon--star-border-inline\" fill=\"currentColor\" height=\"24\" role=\"presentation\" viewbox=\"0 0 24 24\" width=\"24\" xmlns=\"http://www.w3.org/2000/svg\"><path d=\"M22.724 8.217l-6.786-.587-2.65-6.22c-.477-1.133-2.103-1.133-2.58 0l-2.65 6.234-6.772.573c-1.234.098-1.739 1.636-.8 2.446l5.146 4.446-1.542 6.598c-.28 1.202 1.023 2.153 2.09 1.51l5.818-3.495 5.819 3.509c1.065.643 2.37-.308 2.089-1.51l-1.542-6.612 5.145-4.446c.94-.81.45-2.348-.785-2.446zm-10.726 8.89l-5.272 3.174 1.402-5.983-4.655-4.026 6.141-.531 2.384-5.634 2.398 5.648 6.14.531-4.654 4.026 1.402 5.983-5.286-3.187z\"></path></svg><span class=\"ipc-rating-star--rate\">Rate</span></span>, <span aria-label=\"IMDb rating: 8.1\" class=\"ipc-rating-star ipc-rating-star--base ipc-rating-star--imdb ratingGroup--imdb-rating\"><svg class=\"ipc-icon ipc-icon--star-inline\" fill=\"currentColor\" height=\"24\" role=\"presentation\" viewbox=\"0 0 24 24\" width=\"24\" xmlns=\"http://www.w3.org/2000/svg\"><path d=\"M12 20.1l5.82 3.682c1.066.675 2.37-.322 2.09-1.584l-1.543-6.926 5.146-4.667c.94-.85.435-2.465-.799-2.567l-6.773-.602L13.29.89a1.38 1.38 0 0 0-2.581 0l-2.65 6.53-6.774.602C.052 8.126-.453 9.74.486 10.59l5.147 4.666-1.542 6.926c-.28 1.262 1.023 2.26 2.09 1.585L12 20.099z\"></path></svg>8.1<span class=\"ipc-rating-star--maxRating\">/<!-- -->10</span><span class=\"ipc-rating-star--voteCount\"> (<!-- -->7.2K<!-- -->)</span></span>, <span class=\"ipc-rating-star ipc-rating-star--base ipc-rating-star--rate\"><svg class=\"ipc-icon ipc-icon--star-border-inline\" fill=\"currentColor\" height=\"24\" role=\"presentation\" viewbox=\"0 0 24 24\" width=\"24\" xmlns=\"http://www.w3.org/2000/svg\"><path d=\"M22.724 8.217l-6.786-.587-2.65-6.22c-.477-1.133-2.103-1.133-2.58 0l-2.65 6.234-6.772.573c-1.234.098-1.739 1.636-.8 2.446l5.146 4.446-1.542 6.598c-.28 1.202 1.023 2.153 2.09 1.51l5.818-3.495 5.819 3.509c1.065.643 2.37-.308 2.089-1.51l-1.542-6.612 5.145-4.446c.94-.81.45-2.348-.785-2.446zm-10.726 8.89l-5.272 3.174 1.402-5.983-4.655-4.026 6.141-.531 2.384-5.634 2.398 5.648 6.14.531-4.654 4.026 1.402 5.983-5.286-3.187z\"></path></svg><span class=\"ipc-rating-star--rate\">Rate</span></span>, <span aria-label=\"IMDb rating: 7.9\" class=\"ipc-rating-star ipc-rating-star--base ipc-rating-star--imdb ratingGroup--imdb-rating\"><svg class=\"ipc-icon ipc-icon--star-inline\" fill=\"currentColor\" height=\"24\" role=\"presentation\" viewbox=\"0 0 24 24\" width=\"24\" xmlns=\"http://www.w3.org/2000/svg\"><path d=\"M12 20.1l5.82 3.682c1.066.675 2.37-.322 2.09-1.584l-1.543-6.926 5.146-4.667c.94-.85.435-2.465-.799-2.567l-6.773-.602L13.29.89a1.38 1.38 0 0 0-2.581 0l-2.65 6.53-6.774.602C.052 8.126-.453 9.74.486 10.59l5.147 4.666-1.542 6.926c-.28 1.262 1.023 2.26 2.09 1.585L12 20.099z\"></path></svg>7.9<span class=\"ipc-rating-star--maxRating\">/<!-- -->10</span><span class=\"ipc-rating-star--voteCount\"> (<!-- -->6.5K<!-- -->)</span></span>, <span class=\"ipc-rating-star ipc-rating-star--base ipc-rating-star--rate\"><svg class=\"ipc-icon ipc-icon--star-border-inline\" fill=\"currentColor\" height=\"24\" role=\"presentation\" viewbox=\"0 0 24 24\" width=\"24\" xmlns=\"http://www.w3.org/2000/svg\"><path d=\"M22.724 8.217l-6.786-.587-2.65-6.22c-.477-1.133-2.103-1.133-2.58 0l-2.65 6.234-6.772.573c-1.234.098-1.739 1.636-.8 2.446l5.146 4.446-1.542 6.598c-.28 1.202 1.023 2.153 2.09 1.51l5.818-3.495 5.819 3.509c1.065.643 2.37-.308 2.089-1.51l-1.542-6.612 5.145-4.446c.94-.81.45-2.348-.785-2.446zm-10.726 8.89l-5.272 3.174 1.402-5.983-4.655-4.026 6.141-.531 2.384-5.634 2.398 5.648 6.14.531-4.654 4.026 1.402 5.983-5.286-3.187z\"></path></svg><span class=\"ipc-rating-star--rate\">Rate</span></span>, <span aria-label=\"IMDb rating: 8.4\" class=\"ipc-rating-star ipc-rating-star--base ipc-rating-star--imdb ratingGroup--imdb-rating\"><svg class=\"ipc-icon ipc-icon--star-inline\" fill=\"currentColor\" height=\"24\" role=\"presentation\" viewbox=\"0 0 24 24\" width=\"24\" xmlns=\"http://www.w3.org/2000/svg\"><path d=\"M12 20.1l5.82 3.682c1.066.675 2.37-.322 2.09-1.584l-1.543-6.926 5.146-4.667c.94-.85.435-2.465-.799-2.567l-6.773-.602L13.29.89a1.38 1.38 0 0 0-2.581 0l-2.65 6.53-6.774.602C.052 8.126-.453 9.74.486 10.59l5.147 4.666-1.542 6.926c-.28 1.262 1.023 2.26 2.09 1.585L12 20.099z\"></path></svg>8.4<span class=\"ipc-rating-star--maxRating\">/<!-- -->10</span><span class=\"ipc-rating-star--voteCount\"> (<!-- -->6.8K<!-- -->)</span></span>, <span class=\"ipc-rating-star ipc-rating-star--base ipc-rating-star--rate\"><svg class=\"ipc-icon ipc-icon--star-border-inline\" fill=\"currentColor\" height=\"24\" role=\"presentation\" viewbox=\"0 0 24 24\" width=\"24\" xmlns=\"http://www.w3.org/2000/svg\"><path d=\"M22.724 8.217l-6.786-.587-2.65-6.22c-.477-1.133-2.103-1.133-2.58 0l-2.65 6.234-6.772.573c-1.234.098-1.739 1.636-.8 2.446l5.146 4.446-1.542 6.598c-.28 1.202 1.023 2.153 2.09 1.51l5.818-3.495 5.819 3.509c1.065.643 2.37-.308 2.089-1.51l-1.542-6.612 5.145-4.446c.94-.81.45-2.348-.785-2.446zm-10.726 8.89l-5.272 3.174 1.402-5.983-4.655-4.026 6.141-.531 2.384-5.634 2.398 5.648 6.14.531-4.654 4.026 1.402 5.983-5.286-3.187z\"></path></svg><span class=\"ipc-rating-star--rate\">Rate</span></span>, <span aria-label=\"IMDb rating: 7.9\" class=\"ipc-rating-star ipc-rating-star--base ipc-rating-star--imdb ratingGroup--imdb-rating\"><svg class=\"ipc-icon ipc-icon--star-inline\" fill=\"currentColor\" height=\"24\" role=\"presentation\" viewbox=\"0 0 24 24\" width=\"24\" xmlns=\"http://www.w3.org/2000/svg\"><path d=\"M12 20.1l5.82 3.682c1.066.675 2.37-.322 2.09-1.584l-1.543-6.926 5.146-4.667c.94-.85.435-2.465-.799-2.567l-6.773-.602L13.29.89a1.38 1.38 0 0 0-2.581 0l-2.65 6.53-6.774.602C.052 8.126-.453 9.74.486 10.59l5.147 4.666-1.542 6.926c-.28 1.262 1.023 2.26 2.09 1.585L12 20.099z\"></path></svg>7.9<span class=\"ipc-rating-star--maxRating\">/<!-- -->10</span><span class=\"ipc-rating-star--voteCount\"> (<!-- -->6K<!-- -->)</span></span>, <span class=\"ipc-rating-star ipc-rating-star--base ipc-rating-star--rate\"><svg class=\"ipc-icon ipc-icon--star-border-inline\" fill=\"currentColor\" height=\"24\" role=\"presentation\" viewbox=\"0 0 24 24\" width=\"24\" xmlns=\"http://www.w3.org/2000/svg\"><path d=\"M22.724 8.217l-6.786-.587-2.65-6.22c-.477-1.133-2.103-1.133-2.58 0l-2.65 6.234-6.772.573c-1.234.098-1.739 1.636-.8 2.446l5.146 4.446-1.542 6.598c-.28 1.202 1.023 2.153 2.09 1.51l5.818-3.495 5.819 3.509c1.065.643 2.37-.308 2.089-1.51l-1.542-6.612 5.145-4.446c.94-.81.45-2.348-.785-2.446zm-10.726 8.89l-5.272 3.174 1.402-5.983-4.655-4.026 6.141-.531 2.384-5.634 2.398 5.648 6.14.531-4.654 4.026 1.402 5.983-5.286-3.187z\"></path></svg><span class=\"ipc-rating-star--rate\">Rate</span></span>, <span aria-label=\"IMDb rating: 8.2\" class=\"ipc-rating-star ipc-rating-star--base ipc-rating-star--imdb ratingGroup--imdb-rating\"><svg class=\"ipc-icon ipc-icon--star-inline\" fill=\"currentColor\" height=\"24\" role=\"presentation\" viewbox=\"0 0 24 24\" width=\"24\" xmlns=\"http://www.w3.org/2000/svg\"><path d=\"M12 20.1l5.82 3.682c1.066.675 2.37-.322 2.09-1.584l-1.543-6.926 5.146-4.667c.94-.85.435-2.465-.799-2.567l-6.773-.602L13.29.89a1.38 1.38 0 0 0-2.581 0l-2.65 6.53-6.774.602C.052 8.126-.453 9.74.486 10.59l5.147 4.666-1.542 6.926c-.28 1.262 1.023 2.26 2.09 1.585L12 20.099z\"></path></svg>8.2<span class=\"ipc-rating-star--maxRating\">/<!-- -->10</span><span class=\"ipc-rating-star--voteCount\"> (<!-- -->6K<!-- -->)</span></span>, <span class=\"ipc-rating-star ipc-rating-star--base ipc-rating-star--rate\"><svg class=\"ipc-icon ipc-icon--star-border-inline\" fill=\"currentColor\" height=\"24\" role=\"presentation\" viewbox=\"0 0 24 24\" width=\"24\" xmlns=\"http://www.w3.org/2000/svg\"><path d=\"M22.724 8.217l-6.786-.587-2.65-6.22c-.477-1.133-2.103-1.133-2.58 0l-2.65 6.234-6.772.573c-1.234.098-1.739 1.636-.8 2.446l5.146 4.446-1.542 6.598c-.28 1.202 1.023 2.153 2.09 1.51l5.818-3.495 5.819 3.509c1.065.643 2.37-.308 2.089-1.51l-1.542-6.612 5.145-4.446c.94-.81.45-2.348-.785-2.446zm-10.726 8.89l-5.272 3.174 1.402-5.983-4.655-4.026 6.141-.531 2.384-5.634 2.398 5.648 6.14.531-4.654 4.026 1.402 5.983-5.286-3.187z\"></path></svg><span class=\"ipc-rating-star--rate\">Rate</span></span>, <span aria-label=\"IMDb rating: 8.3\" class=\"ipc-rating-star ipc-rating-star--base ipc-rating-star--imdb ratingGroup--imdb-rating\"><svg class=\"ipc-icon ipc-icon--star-inline\" fill=\"currentColor\" height=\"24\" role=\"presentation\" viewbox=\"0 0 24 24\" width=\"24\" xmlns=\"http://www.w3.org/2000/svg\"><path d=\"M12 20.1l5.82 3.682c1.066.675 2.37-.322 2.09-1.584l-1.543-6.926 5.146-4.667c.94-.85.435-2.465-.799-2.567l-6.773-.602L13.29.89a1.38 1.38 0 0 0-2.581 0l-2.65 6.53-6.774.602C.052 8.126-.453 9.74.486 10.59l5.147 4.666-1.542 6.926c-.28 1.262 1.023 2.26 2.09 1.585L12 20.099z\"></path></svg>8.3<span class=\"ipc-rating-star--maxRating\">/<!-- -->10</span><span class=\"ipc-rating-star--voteCount\"> (<!-- -->5.9K<!-- -->)</span></span>, <span class=\"ipc-rating-star ipc-rating-star--base ipc-rating-star--rate\"><svg class=\"ipc-icon ipc-icon--star-border-inline\" fill=\"currentColor\" height=\"24\" role=\"presentation\" viewbox=\"0 0 24 24\" width=\"24\" xmlns=\"http://www.w3.org/2000/svg\"><path d=\"M22.724 8.217l-6.786-.587-2.65-6.22c-.477-1.133-2.103-1.133-2.58 0l-2.65 6.234-6.772.573c-1.234.098-1.739 1.636-.8 2.446l5.146 4.446-1.542 6.598c-.28 1.202 1.023 2.153 2.09 1.51l5.818-3.495 5.819 3.509c1.065.643 2.37-.308 2.089-1.51l-1.542-6.612 5.145-4.446c.94-.81.45-2.348-.785-2.446zm-10.726 8.89l-5.272 3.174 1.402-5.983-4.655-4.026 6.141-.531 2.384-5.634 2.398 5.648 6.14.531-4.654 4.026 1.402 5.983-5.286-3.187z\"></path></svg><span class=\"ipc-rating-star--rate\">Rate</span></span>, <span aria-label=\"IMDb rating: 9.1\" class=\"ipc-rating-star ipc-rating-star--base ipc-rating-star--imdb ratingGroup--imdb-rating\"><svg class=\"ipc-icon ipc-icon--star-inline\" fill=\"currentColor\" height=\"24\" role=\"presentation\" viewbox=\"0 0 24 24\" width=\"24\" xmlns=\"http://www.w3.org/2000/svg\"><path d=\"M12 20.1l5.82 3.682c1.066.675 2.37-.322 2.09-1.584l-1.543-6.926 5.146-4.667c.94-.85.435-2.465-.799-2.567l-6.773-.602L13.29.89a1.38 1.38 0 0 0-2.581 0l-2.65 6.53-6.774.602C.052 8.126-.453 9.74.486 10.59l5.147 4.666-1.542 6.926c-.28 1.262 1.023 2.26 2.09 1.585L12 20.099z\"></path></svg>9.1<span class=\"ipc-rating-star--maxRating\">/<!-- -->10</span><span class=\"ipc-rating-star--voteCount\"> (<!-- -->9.1K<!-- -->)</span></span>, <span class=\"ipc-rating-star ipc-rating-star--base ipc-rating-star--rate\"><svg class=\"ipc-icon ipc-icon--star-border-inline\" fill=\"currentColor\" height=\"24\" role=\"presentation\" viewbox=\"0 0 24 24\" width=\"24\" xmlns=\"http://www.w3.org/2000/svg\"><path d=\"M22.724 8.217l-6.786-.587-2.65-6.22c-.477-1.133-2.103-1.133-2.58 0l-2.65 6.234-6.772.573c-1.234.098-1.739 1.636-.8 2.446l5.146 4.446-1.542 6.598c-.28 1.202 1.023 2.153 2.09 1.51l5.818-3.495 5.819 3.509c1.065.643 2.37-.308 2.089-1.51l-1.542-6.612 5.145-4.446c.94-.81.45-2.348-.785-2.446zm-10.726 8.89l-5.272 3.174 1.402-5.983-4.655-4.026 6.141-.531 2.384-5.634 2.398 5.648 6.14.531-4.654 4.026 1.402 5.983-5.286-3.187z\"></path></svg><span class=\"ipc-rating-star--rate\">Rate</span></span>, <span aria-label=\"IMDb rating: 9.2\" class=\"ipc-rating-star ipc-rating-star--base ipc-rating-star--imdb ratingGroup--imdb-rating\"><svg class=\"ipc-icon ipc-icon--star-inline\" fill=\"currentColor\" height=\"24\" role=\"presentation\" viewbox=\"0 0 24 24\" width=\"24\" xmlns=\"http://www.w3.org/2000/svg\"><path d=\"M12 20.1l5.82 3.682c1.066.675 2.37-.322 2.09-1.584l-1.543-6.926 5.146-4.667c.94-.85.435-2.465-.799-2.567l-6.773-.602L13.29.89a1.38 1.38 0 0 0-2.581 0l-2.65 6.53-6.774.602C.052 8.126-.453 9.74.486 10.59l5.147 4.666-1.542 6.926c-.28 1.262 1.023 2.26 2.09 1.585L12 20.099z\"></path></svg>9.2<span class=\"ipc-rating-star--maxRating\">/<!-- -->10</span><span class=\"ipc-rating-star--voteCount\"> (<!-- -->8.7K<!-- -->)</span></span>, <span class=\"ipc-rating-star ipc-rating-star--base ipc-rating-star--rate\"><svg class=\"ipc-icon ipc-icon--star-border-inline\" fill=\"currentColor\" height=\"24\" role=\"presentation\" viewbox=\"0 0 24 24\" width=\"24\" xmlns=\"http://www.w3.org/2000/svg\"><path d=\"M22.724 8.217l-6.786-.587-2.65-6.22c-.477-1.133-2.103-1.133-2.58 0l-2.65 6.234-6.772.573c-1.234.098-1.739 1.636-.8 2.446l5.146 4.446-1.542 6.598c-.28 1.202 1.023 2.153 2.09 1.51l5.818-3.495 5.819 3.509c1.065.643 2.37-.308 2.089-1.51l-1.542-6.612 5.145-4.446c.94-.81.45-2.348-.785-2.446zm-10.726 8.89l-5.272 3.174 1.402-5.983-4.655-4.026 6.141-.531 2.384-5.634 2.398 5.648 6.14.531-4.654 4.026 1.402 5.983-5.286-3.187z\"></path></svg><span class=\"ipc-rating-star--rate\">Rate</span></span>, <span aria-label=\"IMDb rating: 8.1\" class=\"ipc-rating-star ipc-rating-star--base ipc-rating-star--imdb ratingGroup--imdb-rating\"><svg class=\"ipc-icon ipc-icon--star-inline\" fill=\"currentColor\" height=\"24\" role=\"presentation\" viewbox=\"0 0 24 24\" width=\"24\" xmlns=\"http://www.w3.org/2000/svg\"><path d=\"M12 20.1l5.82 3.682c1.066.675 2.37-.322 2.09-1.584l-1.543-6.926 5.146-4.667c.94-.85.435-2.465-.799-2.567l-6.773-.602L13.29.89a1.38 1.38 0 0 0-2.581 0l-2.65 6.53-6.774.602C.052 8.126-.453 9.74.486 10.59l5.147 4.666-1.542 6.926c-.28 1.262 1.023 2.26 2.09 1.585L12 20.099z\"></path></svg>8.1<span class=\"ipc-rating-star--maxRating\">/<!-- -->10</span><span class=\"ipc-rating-star--voteCount\"> (<!-- -->5.8K<!-- -->)</span></span>, <span class=\"ipc-rating-star ipc-rating-star--base ipc-rating-star--rate\"><svg class=\"ipc-icon ipc-icon--star-border-inline\" fill=\"currentColor\" height=\"24\" role=\"presentation\" viewbox=\"0 0 24 24\" width=\"24\" xmlns=\"http://www.w3.org/2000/svg\"><path d=\"M22.724 8.217l-6.786-.587-2.65-6.22c-.477-1.133-2.103-1.133-2.58 0l-2.65 6.234-6.772.573c-1.234.098-1.739 1.636-.8 2.446l5.146 4.446-1.542 6.598c-.28 1.202 1.023 2.153 2.09 1.51l5.818-3.495 5.819 3.509c1.065.643 2.37-.308 2.089-1.51l-1.542-6.612 5.145-4.446c.94-.81.45-2.348-.785-2.446zm-10.726 8.89l-5.272 3.174 1.402-5.983-4.655-4.026 6.141-.531 2.384-5.634 2.398 5.648 6.14.531-4.654 4.026 1.402 5.983-5.286-3.187z\"></path></svg><span class=\"ipc-rating-star--rate\">Rate</span></span>, <span aria-label=\"IMDb rating: 8.0\" class=\"ipc-rating-star ipc-rating-star--base ipc-rating-star--imdb ratingGroup--imdb-rating\"><svg class=\"ipc-icon ipc-icon--star-inline\" fill=\"currentColor\" height=\"24\" role=\"presentation\" viewbox=\"0 0 24 24\" width=\"24\" xmlns=\"http://www.w3.org/2000/svg\"><path d=\"M12 20.1l5.82 3.682c1.066.675 2.37-.322 2.09-1.584l-1.543-6.926 5.146-4.667c.94-.85.435-2.465-.799-2.567l-6.773-.602L13.29.89a1.38 1.38 0 0 0-2.581 0l-2.65 6.53-6.774.602C.052 8.126-.453 9.74.486 10.59l5.147 4.666-1.542 6.926c-.28 1.262 1.023 2.26 2.09 1.585L12 20.099z\"></path></svg>8.0<span class=\"ipc-rating-star--maxRating\">/<!-- -->10</span><span class=\"ipc-rating-star--voteCount\"> (<!-- -->5.4K<!-- -->)</span></span>, <span class=\"ipc-rating-star ipc-rating-star--base ipc-rating-star--rate\"><svg class=\"ipc-icon ipc-icon--star-border-inline\" fill=\"currentColor\" height=\"24\" role=\"presentation\" viewbox=\"0 0 24 24\" width=\"24\" xmlns=\"http://www.w3.org/2000/svg\"><path d=\"M22.724 8.217l-6.786-.587-2.65-6.22c-.477-1.133-2.103-1.133-2.58 0l-2.65 6.234-6.772.573c-1.234.098-1.739 1.636-.8 2.446l5.146 4.446-1.542 6.598c-.28 1.202 1.023 2.153 2.09 1.51l5.818-3.495 5.819 3.509c1.065.643 2.37-.308 2.089-1.51l-1.542-6.612 5.145-4.446c.94-.81.45-2.348-.785-2.446zm-10.726 8.89l-5.272 3.174 1.402-5.983-4.655-4.026 6.141-.531 2.384-5.634 2.398 5.648 6.14.531-4.654 4.026 1.402 5.983-5.286-3.187z\"></path></svg><span class=\"ipc-rating-star--rate\">Rate</span></span>, <span aria-label=\"IMDb rating: 8.2\" class=\"ipc-rating-star ipc-rating-star--base ipc-rating-star--imdb ratingGroup--imdb-rating\"><svg class=\"ipc-icon ipc-icon--star-inline\" fill=\"currentColor\" height=\"24\" role=\"presentation\" viewbox=\"0 0 24 24\" width=\"24\" xmlns=\"http://www.w3.org/2000/svg\"><path d=\"M12 20.1l5.82 3.682c1.066.675 2.37-.322 2.09-1.584l-1.543-6.926 5.146-4.667c.94-.85.435-2.465-.799-2.567l-6.773-.602L13.29.89a1.38 1.38 0 0 0-2.581 0l-2.65 6.53-6.774.602C.052 8.126-.453 9.74.486 10.59l5.147 4.666-1.542 6.926c-.28 1.262 1.023 2.26 2.09 1.585L12 20.099z\"></path></svg>8.2<span class=\"ipc-rating-star--maxRating\">/<!-- -->10</span><span class=\"ipc-rating-star--voteCount\"> (<!-- -->5.6K<!-- -->)</span></span>, <span class=\"ipc-rating-star ipc-rating-star--base ipc-rating-star--rate\"><svg class=\"ipc-icon ipc-icon--star-border-inline\" fill=\"currentColor\" height=\"24\" role=\"presentation\" viewbox=\"0 0 24 24\" width=\"24\" xmlns=\"http://www.w3.org/2000/svg\"><path d=\"M22.724 8.217l-6.786-.587-2.65-6.22c-.477-1.133-2.103-1.133-2.58 0l-2.65 6.234-6.772.573c-1.234.098-1.739 1.636-.8 2.446l5.146 4.446-1.542 6.598c-.28 1.202 1.023 2.153 2.09 1.51l5.818-3.495 5.819 3.509c1.065.643 2.37-.308 2.089-1.51l-1.542-6.612 5.145-4.446c.94-.81.45-2.348-.785-2.446zm-10.726 8.89l-5.272 3.174 1.402-5.983-4.655-4.026 6.141-.531 2.384-5.634 2.398 5.648 6.14.531-4.654 4.026 1.402 5.983-5.286-3.187z\"></path></svg><span class=\"ipc-rating-star--rate\">Rate</span></span>, <span aria-label=\"IMDb rating: 8.5\" class=\"ipc-rating-star ipc-rating-star--base ipc-rating-star--imdb ratingGroup--imdb-rating\"><svg class=\"ipc-icon ipc-icon--star-inline\" fill=\"currentColor\" height=\"24\" role=\"presentation\" viewbox=\"0 0 24 24\" width=\"24\" xmlns=\"http://www.w3.org/2000/svg\"><path d=\"M12 20.1l5.82 3.682c1.066.675 2.37-.322 2.09-1.584l-1.543-6.926 5.146-4.667c.94-.85.435-2.465-.799-2.567l-6.773-.602L13.29.89a1.38 1.38 0 0 0-2.581 0l-2.65 6.53-6.774.602C.052 8.126-.453 9.74.486 10.59l5.147 4.666-1.542 6.926c-.28 1.262 1.023 2.26 2.09 1.585L12 20.099z\"></path></svg>8.5<span class=\"ipc-rating-star--maxRating\">/<!-- -->10</span><span class=\"ipc-rating-star--voteCount\"> (<!-- -->5.7K<!-- -->)</span></span>, <span class=\"ipc-rating-star ipc-rating-star--base ipc-rating-star--rate\"><svg class=\"ipc-icon ipc-icon--star-border-inline\" fill=\"currentColor\" height=\"24\" role=\"presentation\" viewbox=\"0 0 24 24\" width=\"24\" xmlns=\"http://www.w3.org/2000/svg\"><path d=\"M22.724 8.217l-6.786-.587-2.65-6.22c-.477-1.133-2.103-1.133-2.58 0l-2.65 6.234-6.772.573c-1.234.098-1.739 1.636-.8 2.446l5.146 4.446-1.542 6.598c-.28 1.202 1.023 2.153 2.09 1.51l5.818-3.495 5.819 3.509c1.065.643 2.37-.308 2.089-1.51l-1.542-6.612 5.145-4.446c.94-.81.45-2.348-.785-2.446zm-10.726 8.89l-5.272 3.174 1.402-5.983-4.655-4.026 6.141-.531 2.384-5.634 2.398 5.648 6.14.531-4.654 4.026 1.402 5.983-5.286-3.187z\"></path></svg><span class=\"ipc-rating-star--rate\">Rate</span></span>, <span aria-label=\"IMDb rating: 8.7\" class=\"ipc-rating-star ipc-rating-star--base ipc-rating-star--imdb ratingGroup--imdb-rating\"><svg class=\"ipc-icon ipc-icon--star-inline\" fill=\"currentColor\" height=\"24\" role=\"presentation\" viewbox=\"0 0 24 24\" width=\"24\" xmlns=\"http://www.w3.org/2000/svg\"><path d=\"M12 20.1l5.82 3.682c1.066.675 2.37-.322 2.09-1.584l-1.543-6.926 5.146-4.667c.94-.85.435-2.465-.799-2.567l-6.773-.602L13.29.89a1.38 1.38 0 0 0-2.581 0l-2.65 6.53-6.774.602C.052 8.126-.453 9.74.486 10.59l5.147 4.666-1.542 6.926c-.28 1.262 1.023 2.26 2.09 1.585L12 20.099z\"></path></svg>8.7<span class=\"ipc-rating-star--maxRating\">/<!-- -->10</span><span class=\"ipc-rating-star--voteCount\"> (<!-- -->6.1K<!-- -->)</span></span>, <span class=\"ipc-rating-star ipc-rating-star--base ipc-rating-star--rate\"><svg class=\"ipc-icon ipc-icon--star-border-inline\" fill=\"currentColor\" height=\"24\" role=\"presentation\" viewbox=\"0 0 24 24\" width=\"24\" xmlns=\"http://www.w3.org/2000/svg\"><path d=\"M22.724 8.217l-6.786-.587-2.65-6.22c-.477-1.133-2.103-1.133-2.58 0l-2.65 6.234-6.772.573c-1.234.098-1.739 1.636-.8 2.446l5.146 4.446-1.542 6.598c-.28 1.202 1.023 2.153 2.09 1.51l5.818-3.495 5.819 3.509c1.065.643 2.37-.308 2.089-1.51l-1.542-6.612 5.145-4.446c.94-.81.45-2.348-.785-2.446zm-10.726 8.89l-5.272 3.174 1.402-5.983-4.655-4.026 6.141-.531 2.384-5.634 2.398 5.648 6.14.531-4.654 4.026 1.402 5.983-5.286-3.187z\"></path></svg><span class=\"ipc-rating-star--rate\">Rate</span></span>, <span aria-label=\"IMDb rating: 9.6\" class=\"ipc-rating-star ipc-rating-star--base ipc-rating-star--imdb ratingGroup--imdb-rating\"><svg class=\"ipc-icon ipc-icon--star-inline\" fill=\"currentColor\" height=\"24\" role=\"presentation\" viewbox=\"0 0 24 24\" width=\"24\" xmlns=\"http://www.w3.org/2000/svg\"><path d=\"M12 20.1l5.82 3.682c1.066.675 2.37-.322 2.09-1.584l-1.543-6.926 5.146-4.667c.94-.85.435-2.465-.799-2.567l-6.773-.602L13.29.89a1.38 1.38 0 0 0-2.581 0l-2.65 6.53-6.774.602C.052 8.126-.453 9.74.486 10.59l5.147 4.666-1.542 6.926c-.28 1.262 1.023 2.26 2.09 1.585L12 20.099z\"></path></svg>9.6<span class=\"ipc-rating-star--maxRating\">/<!-- -->10</span><span class=\"ipc-rating-star--voteCount\"> (<!-- -->15K<!-- -->)</span></span>, <span class=\"ipc-rating-star ipc-rating-star--base ipc-rating-star--rate\"><svg class=\"ipc-icon ipc-icon--star-border-inline\" fill=\"currentColor\" height=\"24\" role=\"presentation\" viewbox=\"0 0 24 24\" width=\"24\" xmlns=\"http://www.w3.org/2000/svg\"><path d=\"M22.724 8.217l-6.786-.587-2.65-6.22c-.477-1.133-2.103-1.133-2.58 0l-2.65 6.234-6.772.573c-1.234.098-1.739 1.636-.8 2.446l5.146 4.446-1.542 6.598c-.28 1.202 1.023 2.153 2.09 1.51l5.818-3.495 5.819 3.509c1.065.643 2.37-.308 2.089-1.51l-1.542-6.612 5.145-4.446c.94-.81.45-2.348-.785-2.446zm-10.726 8.89l-5.272 3.174 1.402-5.983-4.655-4.026 6.141-.531 2.384-5.634 2.398 5.648 6.14.531-4.654 4.026 1.402 5.983-5.286-3.187z\"></path></svg><span class=\"ipc-rating-star--rate\">Rate</span></span>, <span aria-label=\"IMDb rating: 8.3\" class=\"ipc-rating-star ipc-rating-star--base ipc-rating-star--imdb ratingGroup--imdb-rating\"><svg class=\"ipc-icon ipc-icon--star-inline\" fill=\"currentColor\" height=\"24\" role=\"presentation\" viewbox=\"0 0 24 24\" width=\"24\" xmlns=\"http://www.w3.org/2000/svg\"><path d=\"M12 20.1l5.82 3.682c1.066.675 2.37-.322 2.09-1.584l-1.543-6.926 5.146-4.667c.94-.85.435-2.465-.799-2.567l-6.773-.602L13.29.89a1.38 1.38 0 0 0-2.581 0l-2.65 6.53-6.774.602C.052 8.126-.453 9.74.486 10.59l5.147 4.666-1.542 6.926c-.28 1.262 1.023 2.26 2.09 1.585L12 20.099z\"></path></svg>8.3<span class=\"ipc-rating-star--maxRating\">/<!-- -->10</span><span class=\"ipc-rating-star--voteCount\"> (<!-- -->5.8K<!-- -->)</span></span>, <span class=\"ipc-rating-star ipc-rating-star--base ipc-rating-star--rate\"><svg class=\"ipc-icon ipc-icon--star-border-inline\" fill=\"currentColor\" height=\"24\" role=\"presentation\" viewbox=\"0 0 24 24\" width=\"24\" xmlns=\"http://www.w3.org/2000/svg\"><path d=\"M22.724 8.217l-6.786-.587-2.65-6.22c-.477-1.133-2.103-1.133-2.58 0l-2.65 6.234-6.772.573c-1.234.098-1.739 1.636-.8 2.446l5.146 4.446-1.542 6.598c-.28 1.202 1.023 2.153 2.09 1.51l5.818-3.495 5.819 3.509c1.065.643 2.37-.308 2.089-1.51l-1.542-6.612 5.145-4.446c.94-.81.45-2.348-.785-2.446zm-10.726 8.89l-5.272 3.174 1.402-5.983-4.655-4.026 6.141-.531 2.384-5.634 2.398 5.648 6.14.531-4.654 4.026 1.402 5.983-5.286-3.187z\"></path></svg><span class=\"ipc-rating-star--rate\">Rate</span></span>, <span aria-label=\"IMDb rating: 9.0\" class=\"ipc-rating-star ipc-rating-star--base ipc-rating-star--imdb ratingGroup--imdb-rating\"><svg class=\"ipc-icon ipc-icon--star-inline\" fill=\"currentColor\" height=\"24\" role=\"presentation\" viewbox=\"0 0 24 24\" width=\"24\" xmlns=\"http://www.w3.org/2000/svg\"><path d=\"M12 20.1l5.82 3.682c1.066.675 2.37-.322 2.09-1.584l-1.543-6.926 5.146-4.667c.94-.85.435-2.465-.799-2.567l-6.773-.602L13.29.89a1.38 1.38 0 0 0-2.581 0l-2.65 6.53-6.774.602C.052 8.126-.453 9.74.486 10.59l5.147 4.666-1.542 6.926c-.28 1.262 1.023 2.26 2.09 1.585L12 20.099z\"></path></svg>9.0<span class=\"ipc-rating-star--maxRating\">/<!-- -->10</span><span class=\"ipc-rating-star--voteCount\"> (<!-- -->7K<!-- -->)</span></span>, <span class=\"ipc-rating-star ipc-rating-star--base ipc-rating-star--rate\"><svg class=\"ipc-icon ipc-icon--star-border-inline\" fill=\"currentColor\" height=\"24\" role=\"presentation\" viewbox=\"0 0 24 24\" width=\"24\" xmlns=\"http://www.w3.org/2000/svg\"><path d=\"M22.724 8.217l-6.786-.587-2.65-6.22c-.477-1.133-2.103-1.133-2.58 0l-2.65 6.234-6.772.573c-1.234.098-1.739 1.636-.8 2.446l5.146 4.446-1.542 6.598c-.28 1.202 1.023 2.153 2.09 1.51l5.818-3.495 5.819 3.509c1.065.643 2.37-.308 2.089-1.51l-1.542-6.612 5.145-4.446c.94-.81.45-2.348-.785-2.446zm-10.726 8.89l-5.272 3.174 1.402-5.983-4.655-4.026 6.141-.531 2.384-5.634 2.398 5.648 6.14.531-4.654 4.026 1.402 5.983-5.286-3.187z\"></path></svg><span class=\"ipc-rating-star--rate\">Rate</span></span>, <span aria-label=\"IMDb rating: 8.1\" class=\"ipc-rating-star ipc-rating-star--base ipc-rating-star--imdb ratingGroup--imdb-rating\"><svg class=\"ipc-icon ipc-icon--star-inline\" fill=\"currentColor\" height=\"24\" role=\"presentation\" viewbox=\"0 0 24 24\" width=\"24\" xmlns=\"http://www.w3.org/2000/svg\"><path d=\"M12 20.1l5.82 3.682c1.066.675 2.37-.322 2.09-1.584l-1.543-6.926 5.146-4.667c.94-.85.435-2.465-.799-2.567l-6.773-.602L13.29.89a1.38 1.38 0 0 0-2.581 0l-2.65 6.53-6.774.602C.052 8.126-.453 9.74.486 10.59l5.147 4.666-1.542 6.926c-.28 1.262 1.023 2.26 2.09 1.585L12 20.099z\"></path></svg>8.1<span class=\"ipc-rating-star--maxRating\">/<!-- -->10</span><span class=\"ipc-rating-star--voteCount\"> (<!-- -->5.7K<!-- -->)</span></span>, <span class=\"ipc-rating-star ipc-rating-star--base ipc-rating-star--rate\"><svg class=\"ipc-icon ipc-icon--star-border-inline\" fill=\"currentColor\" height=\"24\" role=\"presentation\" viewbox=\"0 0 24 24\" width=\"24\" xmlns=\"http://www.w3.org/2000/svg\"><path d=\"M22.724 8.217l-6.786-.587-2.65-6.22c-.477-1.133-2.103-1.133-2.58 0l-2.65 6.234-6.772.573c-1.234.098-1.739 1.636-.8 2.446l5.146 4.446-1.542 6.598c-.28 1.202 1.023 2.153 2.09 1.51l5.818-3.495 5.819 3.509c1.065.643 2.37-.308 2.089-1.51l-1.542-6.612 5.145-4.446c.94-.81.45-2.348-.785-2.446zm-10.726 8.89l-5.272 3.174 1.402-5.983-4.655-4.026 6.141-.531 2.384-5.634 2.398 5.648 6.14.531-4.654 4.026 1.402 5.983-5.286-3.187z\"></path></svg><span class=\"ipc-rating-star--rate\">Rate</span></span>, <span aria-label=\"IMDb rating: 8.9\" class=\"ipc-rating-star ipc-rating-star--base ipc-rating-star--imdb ratingGroup--imdb-rating\"><svg class=\"ipc-icon ipc-icon--star-inline\" fill=\"currentColor\" height=\"24\" role=\"presentation\" viewbox=\"0 0 24 24\" width=\"24\" xmlns=\"http://www.w3.org/2000/svg\"><path d=\"M12 20.1l5.82 3.682c1.066.675 2.37-.322 2.09-1.584l-1.543-6.926 5.146-4.667c.94-.85.435-2.465-.799-2.567l-6.773-.602L13.29.89a1.38 1.38 0 0 0-2.581 0l-2.65 6.53-6.774.602C.052 8.126-.453 9.74.486 10.59l5.147 4.666-1.542 6.926c-.28 1.262 1.023 2.26 2.09 1.585L12 20.099z\"></path></svg>8.9<span class=\"ipc-rating-star--maxRating\">/<!-- -->10</span><span class=\"ipc-rating-star--voteCount\"> (<!-- -->6.4K<!-- -->)</span></span>, <span class=\"ipc-rating-star ipc-rating-star--base ipc-rating-star--rate\"><svg class=\"ipc-icon ipc-icon--star-border-inline\" fill=\"currentColor\" height=\"24\" role=\"presentation\" viewbox=\"0 0 24 24\" width=\"24\" xmlns=\"http://www.w3.org/2000/svg\"><path d=\"M22.724 8.217l-6.786-.587-2.65-6.22c-.477-1.133-2.103-1.133-2.58 0l-2.65 6.234-6.772.573c-1.234.098-1.739 1.636-.8 2.446l5.146 4.446-1.542 6.598c-.28 1.202 1.023 2.153 2.09 1.51l5.818-3.495 5.819 3.509c1.065.643 2.37-.308 2.089-1.51l-1.542-6.612 5.145-4.446c.94-.81.45-2.348-.785-2.446zm-10.726 8.89l-5.272 3.174 1.402-5.983-4.655-4.026 6.141-.531 2.384-5.634 2.398 5.648 6.14.531-4.654 4.026 1.402 5.983-5.286-3.187z\"></path></svg><span class=\"ipc-rating-star--rate\">Rate</span></span>, <span aria-label=\"IMDb rating: 9.3\" class=\"ipc-rating-star ipc-rating-star--base ipc-rating-star--imdb ratingGroup--imdb-rating\"><svg class=\"ipc-icon ipc-icon--star-inline\" fill=\"currentColor\" height=\"24\" role=\"presentation\" viewbox=\"0 0 24 24\" width=\"24\" xmlns=\"http://www.w3.org/2000/svg\"><path d=\"M12 20.1l5.82 3.682c1.066.675 2.37-.322 2.09-1.584l-1.543-6.926 5.146-4.667c.94-.85.435-2.465-.799-2.567l-6.773-.602L13.29.89a1.38 1.38 0 0 0-2.581 0l-2.65 6.53-6.774.602C.052 8.126-.453 9.74.486 10.59l5.147 4.666-1.542 6.926c-.28 1.262 1.023 2.26 2.09 1.585L12 20.099z\"></path></svg>9.3<span class=\"ipc-rating-star--maxRating\">/<!-- -->10</span><span class=\"ipc-rating-star--voteCount\"> (<!-- -->7.6K<!-- -->)</span></span>, <span class=\"ipc-rating-star ipc-rating-star--base ipc-rating-star--rate\"><svg class=\"ipc-icon ipc-icon--star-border-inline\" fill=\"currentColor\" height=\"24\" role=\"presentation\" viewbox=\"0 0 24 24\" width=\"24\" xmlns=\"http://www.w3.org/2000/svg\"><path d=\"M22.724 8.217l-6.786-.587-2.65-6.22c-.477-1.133-2.103-1.133-2.58 0l-2.65 6.234-6.772.573c-1.234.098-1.739 1.636-.8 2.446l5.146 4.446-1.542 6.598c-.28 1.202 1.023 2.153 2.09 1.51l5.818-3.495 5.819 3.509c1.065.643 2.37-.308 2.089-1.51l-1.542-6.612 5.145-4.446c.94-.81.45-2.348-.785-2.446zm-10.726 8.89l-5.272 3.174 1.402-5.983-4.655-4.026 6.141-.531 2.384-5.634 2.398 5.648 6.14.531-4.654 4.026 1.402 5.983-5.286-3.187z\"></path></svg><span class=\"ipc-rating-star--rate\">Rate</span></span>, <span aria-label=\"IMDb rating: 8.2\" class=\"ipc-rating-star ipc-rating-star--base ipc-rating-star--imdb ratingGroup--imdb-rating\"><svg class=\"ipc-icon ipc-icon--star-inline\" fill=\"currentColor\" height=\"24\" role=\"presentation\" viewbox=\"0 0 24 24\" width=\"24\" xmlns=\"http://www.w3.org/2000/svg\"><path d=\"M12 20.1l5.82 3.682c1.066.675 2.37-.322 2.09-1.584l-1.543-6.926 5.146-4.667c.94-.85.435-2.465-.799-2.567l-6.773-.602L13.29.89a1.38 1.38 0 0 0-2.581 0l-2.65 6.53-6.774.602C.052 8.126-.453 9.74.486 10.59l5.147 4.666-1.542 6.926c-.28 1.262 1.023 2.26 2.09 1.585L12 20.099z\"></path></svg>8.2<span class=\"ipc-rating-star--maxRating\">/<!-- -->10</span><span class=\"ipc-rating-star--voteCount\"> (<!-- -->5.8K<!-- -->)</span></span>, <span class=\"ipc-rating-star ipc-rating-star--base ipc-rating-star--rate\"><svg class=\"ipc-icon ipc-icon--star-border-inline\" fill=\"currentColor\" height=\"24\" role=\"presentation\" viewbox=\"0 0 24 24\" width=\"24\" xmlns=\"http://www.w3.org/2000/svg\"><path d=\"M22.724 8.217l-6.786-.587-2.65-6.22c-.477-1.133-2.103-1.133-2.58 0l-2.65 6.234-6.772.573c-1.234.098-1.739 1.636-.8 2.446l5.146 4.446-1.542 6.598c-.28 1.202 1.023 2.153 2.09 1.51l5.818-3.495 5.819 3.509c1.065.643 2.37-.308 2.089-1.51l-1.542-6.612 5.145-4.446c.94-.81.45-2.348-.785-2.446zm-10.726 8.89l-5.272 3.174 1.402-5.983-4.655-4.026 6.141-.531 2.384-5.634 2.398 5.648 6.14.531-4.654 4.026 1.402 5.983-5.286-3.187z\"></path></svg><span class=\"ipc-rating-star--rate\">Rate</span></span>, <span aria-label=\"IMDb rating: 9.0\" class=\"ipc-rating-star ipc-rating-star--base ipc-rating-star--imdb ratingGroup--imdb-rating\"><svg class=\"ipc-icon ipc-icon--star-inline\" fill=\"currentColor\" height=\"24\" role=\"presentation\" viewbox=\"0 0 24 24\" width=\"24\" xmlns=\"http://www.w3.org/2000/svg\"><path d=\"M12 20.1l5.82 3.682c1.066.675 2.37-.322 2.09-1.584l-1.543-6.926 5.146-4.667c.94-.85.435-2.465-.799-2.567l-6.773-.602L13.29.89a1.38 1.38 0 0 0-2.581 0l-2.65 6.53-6.774.602C.052 8.126-.453 9.74.486 10.59l5.147 4.666-1.542 6.926c-.28 1.262 1.023 2.26 2.09 1.585L12 20.099z\"></path></svg>9.0<span class=\"ipc-rating-star--maxRating\">/<!-- -->10</span><span class=\"ipc-rating-star--voteCount\"> (<!-- -->7K<!-- -->)</span></span>, <span class=\"ipc-rating-star ipc-rating-star--base ipc-rating-star--rate\"><svg class=\"ipc-icon ipc-icon--star-border-inline\" fill=\"currentColor\" height=\"24\" role=\"presentation\" viewbox=\"0 0 24 24\" width=\"24\" xmlns=\"http://www.w3.org/2000/svg\"><path d=\"M22.724 8.217l-6.786-.587-2.65-6.22c-.477-1.133-2.103-1.133-2.58 0l-2.65 6.234-6.772.573c-1.234.098-1.739 1.636-.8 2.446l5.146 4.446-1.542 6.598c-.28 1.202 1.023 2.153 2.09 1.51l5.818-3.495 5.819 3.509c1.065.643 2.37-.308 2.089-1.51l-1.542-6.612 5.145-4.446c.94-.81.45-2.348-.785-2.446zm-10.726 8.89l-5.272 3.174 1.402-5.983-4.655-4.026 6.141-.531 2.384-5.634 2.398 5.648 6.14.531-4.654 4.026 1.402 5.983-5.286-3.187z\"></path></svg><span class=\"ipc-rating-star--rate\">Rate</span></span>, <span aria-label=\"IMDb rating: 9.5\" class=\"ipc-rating-star ipc-rating-star--base ipc-rating-star--imdb ratingGroup--imdb-rating\"><svg class=\"ipc-icon ipc-icon--star-inline\" fill=\"currentColor\" height=\"24\" role=\"presentation\" viewbox=\"0 0 24 24\" width=\"24\" xmlns=\"http://www.w3.org/2000/svg\"><path d=\"M12 20.1l5.82 3.682c1.066.675 2.37-.322 2.09-1.584l-1.543-6.926 5.146-4.667c.94-.85.435-2.465-.799-2.567l-6.773-.602L13.29.89a1.38 1.38 0 0 0-2.581 0l-2.65 6.53-6.774.602C.052 8.126-.453 9.74.486 10.59l5.147 4.666-1.542 6.926c-.28 1.262 1.023 2.26 2.09 1.585L12 20.099z\"></path></svg>9.5<span class=\"ipc-rating-star--maxRating\">/<!-- -->10</span><span class=\"ipc-rating-star--voteCount\"> (<!-- -->13K<!-- -->)</span></span>, <span class=\"ipc-rating-star ipc-rating-star--base ipc-rating-star--rate\"><svg class=\"ipc-icon ipc-icon--star-border-inline\" fill=\"currentColor\" height=\"24\" role=\"presentation\" viewbox=\"0 0 24 24\" width=\"24\" xmlns=\"http://www.w3.org/2000/svg\"><path d=\"M22.724 8.217l-6.786-.587-2.65-6.22c-.477-1.133-2.103-1.133-2.58 0l-2.65 6.234-6.772.573c-1.234.098-1.739 1.636-.8 2.446l5.146 4.446-1.542 6.598c-.28 1.202 1.023 2.153 2.09 1.51l5.818-3.495 5.819 3.509c1.065.643 2.37-.308 2.089-1.51l-1.542-6.612 5.145-4.446c.94-.81.45-2.348-.785-2.446zm-10.726 8.89l-5.272 3.174 1.402-5.983-4.655-4.026 6.141-.531 2.384-5.634 2.398 5.648 6.14.531-4.654 4.026 1.402 5.983-5.286-3.187z\"></path></svg><span class=\"ipc-rating-star--rate\">Rate</span></span>]\n"
     ]
    }
   ],
   "source": [
    "text = soup.select('span.ipc-rating-star')\n",
    "print(text)"
   ]
  },
  {
   "cell_type": "code",
   "execution_count": 207,
   "metadata": {},
   "outputs": [
    {
     "name": "stdout",
     "output_type": "stream",
     "text": [
      "/title/tt3187092/?ref_=ttep_ep1\n"
     ]
    }
   ],
   "source": [
    "links=[]\n",
    "for a in soup.select('a.sc-1318654d-8'):\n",
    "  links.append(a.attrs.get('href'))\n",
    "\n",
    "print(links[0])"
   ]
  },
  {
   "cell_type": "code",
   "execution_count": 262,
   "metadata": {},
   "outputs": [
    {
     "name": "stdout",
     "output_type": "stream",
     "text": [
      "['Rate', 'Rate', 'Rate', 'Rate', 'Rate', 'Rate', 'Rate', 'Rate', 'Rate', 'Rate', 'Rate', 'Rate', 'Rate', 'Rate', 'Rate', 'Rate', 'Rate', 'Rate', 'Rate', 'Rate', 'Rate', 'Rate', 'Rate', 'Rate', 'Rate', 'Rate', 'Rate', 'Rate', 'Rate', 'Rate', 'Rate', 'Rate', 'Rate', 'Rate', 'Rate', 'Rate', 'Rate', 'Rate', 'Rate', 'Rate', 'Rate', 'Rate', 'Rate', 'Rate', 'Rate', 'Rate']\n"
     ]
    }
   ],
   "source": [
    "Title=[]\n",
    "Description=[]\n",
    "Date=[]\n",
    "Rating=[]\n",
    "Rate=[]\n",
    "Rate2=[]\n",
    "images=[]\n",
    "iconLink=[]\n",
    "icon=[]\n",
    "\n",
    "for t in soup.select('a.sc-1318654d-8'):\n",
    "  Title.append(t.get_text())\n",
    "for a in soup.select('a.sc-1318654d-8'):\n",
    "  links.append(a.attrs.get('href'))\n",
    "for t in soup.select('div.ipc-html-content-inner-div'):\n",
    "  Description.append(t.get_text())\n",
    "for t in soup.select('span.sc-1318654d-10'):\n",
    "  Date.append(t.get_text())\n",
    "for t in soup.select('span.ipc-rating-star--imdb'):\n",
    "  Rating.append(t.get_text())\n",
    "for t in soup.select('span.ipc-rating-star--maxRating'):\n",
    "  Rate.append(t.get_text())\n",
    "for t in soup.select('span.ipc-rating-star--voteCount'):\n",
    "  Rate2.append(t.get_text())\n",
    "for t in soup.select('div.ipc-media img.ipc-image'):\n",
    "  images.append(t.attrs.get('src'))\n",
    "for t in soup.select('div.ipc-watchlist-ribbon__icon svg'):\n",
    "  iconLink.append(t.attrs.get('xmlns'))\n",
    "for t in soup.select('span.ipc-rating-star--rate'):\n",
    "  icon.append(t.get_text())\n",
    "\n",
    "  \n",
    "\n",
    "\n",
    "print(icon)\n"
   ]
  },
  {
   "cell_type": "code",
   "execution_count": 12,
   "metadata": {},
   "outputs": [
    {
     "name": "stdout",
     "output_type": "stream",
     "text": [
      "['Countries of the World: A Simple Example', 'Hockey Teams: Forms, Searching and Pagination', 'Oscar Winning Films: AJAX and Javascript', 'Turtles All the Way Down: Frames & iFrames', \"Advanced Topics: Real World Challenges You'll Encounter\"]\n",
      "['/pages/simple/', '/pages/forms/', '/pages/ajax-javascript/', '/pages/frames/', '/pages/advanced/']\n"
     ]
    }
   ],
   "source": [
    "article_title=[]\n",
    "links=[]\n",
    "\n",
    "for t in soup.select('h3.page-title a'):\n",
    "  article_title.append(t.get_text())\n",
    "  links.append(t.attrs.get('href'))\n",
    "\n",
    "print(article_title)\n",
    "print(links)"
   ]
  },
  {
   "cell_type": "code",
   "execution_count": 311,
   "metadata": {},
   "outputs": [
    {
     "name": "stdout",
     "output_type": "stream",
     "text": [
      "                             Title  \\\n",
      "0                    S1.E1 ∙ Pilot   \n",
      "1        S1.E2 ∙ Fastest Man Alive   \n",
      "2  S1.E3 ∙ Things You Can't Outrun   \n",
      "3              S1.E4 ∙ Going Rogue   \n",
      "4                S1.E5 ∙ Plastique   \n",
      "\n",
      "                                         Description  \\\n",
      "0  CSI investigator Barry Allen awakens from a co...   \n",
      "1  Barry takes on a group of armed men at an awar...   \n",
      "2  Barry and Joe track a deadly metahuman with to...   \n",
      "3  To steal a priceless diamond, Captain Cold acq...   \n",
      "4  While trying to get Iris to stop blogging abou...   \n",
      "\n",
      "                             Links               Date         Rating  \\\n",
      "0  /title/tt3187092/?ref_=ttep_ep1  Thu, Dec 15, 2016  8.3/10 (9.4K)   \n",
      "1  /title/tt3819518/?ref_=ttep_ep2  Tue, Oct 14, 2014  8.1/10 (7.2K)   \n",
      "2  /title/tt3826166/?ref_=ttep_ep3  Tue, Oct 21, 2014  7.9/10 (6.5K)   \n",
      "3  /title/tt3881958/?ref_=ttep_ep4  Tue, Oct 28, 2014  8.4/10 (6.8K)   \n",
      "4  /title/tt3887830/?ref_=ttep_ep5  Tue, Nov 11, 2014    7.9/10 (6K)   \n",
      "\n",
      "  MaxRating    Views                                              Image  \\\n",
      "0       /10   (9.4K)  https://m.media-amazon.com/images/M/MV5BZDcwMz...   \n",
      "1       /10   (7.2K)  https://m.media-amazon.com/images/M/MV5BMTQ0OD...   \n",
      "2       /10   (6.5K)  https://m.media-amazon.com/images/M/MV5BMTUwNT...   \n",
      "3       /10   (6.8K)  https://m.media-amazon.com/images/M/MV5BMzg5Mj...   \n",
      "4       /10     (6K)  https://m.media-amazon.com/images/M/MV5BZDBmZD...   \n",
      "\n",
      "                    Icon link Rate Hyperlink  \n",
      "0  http://www.w3.org/2000/svg           Rate  \n",
      "1  http://www.w3.org/2000/svg           Rate  \n",
      "2  http://www.w3.org/2000/svg           Rate  \n",
      "3  http://www.w3.org/2000/svg           Rate  \n",
      "4  http://www.w3.org/2000/svg           Rate  \n"
     ]
    }
   ],
   "source": [
    "df = pd.DataFrame(\n",
    "    {'Title': Title[0:23],\n",
    "     'Description' : Description[0:23],\n",
    "     'Links': links[0:23],\n",
    "     'Date' : Date[0:23],\n",
    "     'Rating' : Rating[0:23],\n",
    "     'MaxRating' : Rate[0:23],\n",
    "     'Views' : Rate2[0:23],\n",
    "     'Image' : images[0:23],\n",
    "     'Icon link' : iconLink[0:23],\n",
    "     'Rate Hyperlink' : icon[0:23],\n",
    "    })\n",
    "\n",
    "print (df.head())\n",
    "\n",
    "df.to_csv('IMDBTheFlash.csv', index=False)"
   ]
  }
 ],
 "metadata": {
  "kernelspec": {
   "display_name": "Python 3",
   "language": "python",
   "name": "python3"
  },
  "language_info": {
   "codemirror_mode": {
    "name": "ipython",
    "version": 3
   },
   "file_extension": ".py",
   "mimetype": "text/x-python",
   "name": "python",
   "nbconvert_exporter": "python",
   "pygments_lexer": "ipython3",
   "version": "3.10.7"
  },
  "orig_nbformat": 4
 },
 "nbformat": 4,
 "nbformat_minor": 2
}
